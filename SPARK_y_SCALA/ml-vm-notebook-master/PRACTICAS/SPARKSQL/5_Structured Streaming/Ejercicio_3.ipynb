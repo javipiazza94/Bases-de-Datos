{
 "cells": [
  {
   "cell_type": "code",
   "execution_count": 1,
   "id": "531539b5",
   "metadata": {},
   "outputs": [
    {
     "data": {
      "text/plain": [
       "Intitializing Scala interpreter ..."
      ]
     },
     "metadata": {},
     "output_type": "display_data"
    },
    {
     "data": {
      "text/plain": [
       "Spark Web UI available at http://iblaesmadc00744.iecisa.corp:4044\n",
       "SparkContext available as 'sc' (version = 3.3.2, master = local[*], app id = local-1681288589001)\n",
       "SparkSession available as 'spark'\n"
      ]
     },
     "metadata": {},
     "output_type": "display_data"
    },
    {
     "data": {
      "text/plain": [
       "import spark.implicits._\r\n",
       "import org.apache.spark.sql.types._\r\n",
       "import java.sql.Timestamp\r\n",
       "import org.apache.spark.sql.functions._\r\n"
      ]
     },
     "execution_count": 1,
     "metadata": {},
     "output_type": "execute_result"
    },
    {
     "name": "stdout",
     "output_type": "stream",
     "text": [
      "23/04/12 10:36:42 WARN ProcfsMetricsGetter: Exception when trying to compute pagesize, as a result reporting of ProcessTree metrics is stopped\r\n"
     ]
    }
   ],
   "source": [
    "//Ejercicio 3\n",
    "//Usando los mismos ficheros del ejercicio 2, crea un programa que vaya guardando en formato JSON aquellos tweets que contengan la palabra 'economia'.\n",
    "\n",
    "import spark.implicits._\n",
    "import org.apache.spark.sql.types._\n",
    "import java.sql.Timestamp\n",
    "import org.apache.spark.sql.functions._"
   ]
  },
  {
   "cell_type": "code",
   "execution_count": null,
   "id": "4e0e59eb",
   "metadata": {},
   "outputs": [],
   "source": [
    "val schema = new StructType()\n",
    "  .add(\"created_at\", TimestampType)\n",
    "  .add(\"screen_name\", StringType)\n",
    "  .add(\"text\", StringType)\n",
    "\n",
    "val tweetsDF = spark\n",
    "  .readStream\n",
    "  .schema(schema)\n",
    "  .json(\"/PRACTICAS/SPARKSQL/Tuits_españoles\")\n",
    "\n",
    "val text = tweetsDF.select(\"text\").filter{p => \n",
    "  val v = p.toString.split(\" \").filter(l => l.startsWith(\"#\"))\n",
    "                                .map(_.toLowerCase)\n",
    "  v.contains(\"#economia\")\n",
    "}\n",
    "\n",
    "val query = text.writeStream\n",
    "  .outputMode(\"append\")\n",
    "  .format(\"json\")\n",
    "  .option(\"path\", \"/PRACTICAS/SPARKSQL/Tuits_españoles\")\n",
    "  .option(\"checkpointLocation\", \"/home/vmuser/tweetsHashtag\")\n",
    "  .start()\n",
    "\n",
    "query.awaitTermination(4500)\n"
   ]
  }
 ],
 "metadata": {
  "kernelspec": {
   "display_name": "spylon-kernel",
   "language": "scala",
   "name": "spylon-kernel"
  },
  "language_info": {
   "codemirror_mode": "text/x-scala",
   "file_extension": ".scala",
   "help_links": [
    {
     "text": "MetaKernel Magics",
     "url": "https://metakernel.readthedocs.io/en/latest/source/README.html"
    }
   ],
   "mimetype": "text/x-scala",
   "name": "scala",
   "pygments_lexer": "scala",
   "version": "0.4.1"
  }
 },
 "nbformat": 4,
 "nbformat_minor": 5
}
