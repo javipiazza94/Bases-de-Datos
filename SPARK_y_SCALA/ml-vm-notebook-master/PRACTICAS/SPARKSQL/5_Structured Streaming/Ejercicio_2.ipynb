{
 "cells": [
  {
   "cell_type": "code",
   "execution_count": null,
   "id": "8aedb347",
   "metadata": {},
   "outputs": [],
   "source": [
    "import spark.implicits._\n",
    "import org.apache.spark.sql.types._\n",
    "import java.sql.Timestamp\n",
    "import org.apache.spark.sql.functions._\n",
    "\n",
    "val schema = new StructType().add(\"created_at\", TimestampType).add(\"screen_name\", \"string\").add(\"text\",\"string\")\n",
    "\n",
    "val tweetsDF = spark\n",
    "  .readStream\n",
    "  .schema(schema)\n",
    "  .json(\"/PRACTICAS/SPARKSQL/Tuits_españoles\")\n",
    "\n",
    "val numTweets = tweetsDF.groupBy(\"screen_name\")\n",
    "        .count().orderBy(desc(\"count\"))\n",
    "\n",
    "\n",
    "numTweets.printSchema\n",
    "\n",
    "val query = numTweets.writeStream\n",
    "    .format(\"json\")\n",
    "    .outputMode(\"complete\")\n",
    "    .option(\"path\", \"/PRACTICAS/SPARKSQL/Tuits_españoles\")\n",
    "    .start()\n",
    "\n",
    "query.awaitTermination(60000)"
   ]
  }
 ],
 "metadata": {
  "kernelspec": {
   "display_name": "spylon-kernel",
   "language": "scala",
   "name": "spylon-kernel"
  },
  "language_info": {
   "codemirror_mode": "text/x-scala",
   "file_extension": ".scala",
   "help_links": [
    {
     "text": "MetaKernel Magics",
     "url": "https://metakernel.readthedocs.io/en/latest/source/README.html"
    }
   ],
   "mimetype": "text/x-scala",
   "name": "scala",
   "pygments_lexer": "scala",
   "version": "0.4.1"
  }
 },
 "nbformat": 4,
 "nbformat_minor": 5
}
