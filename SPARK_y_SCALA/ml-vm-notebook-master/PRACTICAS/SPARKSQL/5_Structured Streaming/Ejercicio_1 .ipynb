{
 "cells": [
  {
   "cell_type": "code",
   "execution_count": 1,
   "id": "44c316b0",
   "metadata": {},
   "outputs": [
    {
     "data": {
      "text/plain": [
       "Intitializing Scala interpreter ..."
      ]
     },
     "metadata": {},
     "output_type": "display_data"
    },
    {
     "data": {
      "text/plain": [
       "Spark Web UI available at http://iblaesmadc00744.iecisa.corp:4042\n",
       "SparkContext available as 'sc' (version = 3.3.2, master = local[*], app id = local-1681287123640)\n",
       "SparkSession available as 'spark'\n"
      ]
     },
     "metadata": {},
     "output_type": "display_data"
    },
    {
     "name": "stdout",
     "output_type": "stream",
     "text": [
      "23/04/12 10:12:20 WARN ProcfsMetricsGetter: Exception when trying to compute pagesize, as a result reporting of ProcessTree metrics is stopped\r\n"
     ]
    },
    {
     "ename": "org.apache.spark.sql.AnalysisException",
     "evalue": " Path does not exist: /home/vmuser/cursos/\r",
     "output_type": "error",
     "traceback": [
      "org.apache.spark.sql.AnalysisException: Path does not exist: /home/vmuser/cursos/\r",
      "  at org.apache.spark.sql.errors.QueryCompilationErrors$.dataPathNotExistError(QueryCompilationErrors.scala:1011)\r",
      "  at org.apache.spark.sql.execution.datasources.DataSource.sourceSchema(DataSource.scala:251)\r",
      "  at org.apache.spark.sql.execution.datasources.DataSource.sourceInfo$lzycompute(DataSource.scala:118)\r",
      "  at org.apache.spark.sql.execution.datasources.DataSource.sourceInfo(DataSource.scala:118)\r",
      "  at org.apache.spark.sql.execution.streaming.StreamingRelation$.apply(StreamingRelation.scala:34)\r",
      "  at org.apache.spark.sql.streaming.DataStreamReader.loadInternal(DataStreamReader.scala:196)\r",
      "  at org.apache.spark.sql.streaming.DataStreamReader.load(DataStreamReader.scala:210)\r",
      "  at org.apache.spark.sql.streaming.DataStreamReader.csv(DataStreamReader.scala:258)\r",
      "  ... 38 elided\r",
      ""
     ]
    }
   ],
   "source": [
    "//Ejercicio 1\n",
    "//Crea un programa el cual, recibiendo vía socket información acerca del nombre, área y duración del curso, muestre el curso con mayor duración de cada área.\n",
    "\n",
    "import spark.implicits._\n",
    "import org.apache.spark.sql.types._\n",
    "\n",
    "\n",
    "val schema = new StructType().add(\"nombre\", \"string\").add(\"area\", \"string\").add(\"duracion\",\"long\")\n",
    "\n",
    "val cursosDF = spark\n",
    "  .readStream\n",
    "  .option(\"sep\", \";\")\n",
    "  .schema(schema)\n",
    "  .csv(\"/home/vmuser/cursos/\")\n",
    "\n",
    "val cursoMayorDuracion = cursosDF.groupBy($\"area\").agg(max(\"duracion\"))\n",
    "\n",
    "val query = cursoMayorDuracion.writeStream\n",
    "    .format(\"console\")\n",
    "    .outputMode(\"complete\")\n",
    "    .start()\n",
    "\n",
    "query.awaitTermination(60000)"
   ]
  }
 ],
 "metadata": {
  "kernelspec": {
   "display_name": "spylon-kernel",
   "language": "scala",
   "name": "spylon-kernel"
  },
  "language_info": {
   "codemirror_mode": "text/x-scala",
   "file_extension": ".scala",
   "help_links": [
    {
     "text": "MetaKernel Magics",
     "url": "https://metakernel.readthedocs.io/en/latest/source/README.html"
    }
   ],
   "mimetype": "text/x-scala",
   "name": "scala",
   "pygments_lexer": "scala",
   "version": "0.4.1"
  }
 },
 "nbformat": 4,
 "nbformat_minor": 5
}
