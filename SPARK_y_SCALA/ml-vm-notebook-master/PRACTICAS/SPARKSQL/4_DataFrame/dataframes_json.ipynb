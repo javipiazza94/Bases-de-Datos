{
 "cells": [
  {
   "cell_type": "code",
   "execution_count": 1,
   "id": "96abee6a",
   "metadata": {
    "scrolled": true
   },
   "outputs": [
    {
     "data": {
      "text/plain": [
       "Intitializing Scala interpreter ..."
      ]
     },
     "metadata": {},
     "output_type": "display_data"
    },
    {
     "data": {
      "text/plain": [
       "Spark Web UI available at http://iblaesmadc00744.iecisa.corp:4045\n",
       "SparkContext available as 'sc' (version = 3.3.2, master = local[*], app id = local-1681122530849)\n",
       "SparkSession available as 'spark'\n"
      ]
     },
     "metadata": {},
     "output_type": "display_data"
    },
    {
     "name": "stdout",
     "output_type": "stream",
     "text": [
      "23/04/10 12:29:03 WARN SparkSession: Using an existing Spark session; only runtime SQL configurations will take effect.\r\n"
     ]
    },
    {
     "data": {
      "text/plain": [
       "import org.apache.spark.sql.SparkSession\r\n",
       "spark: org.apache.spark.sql.SparkSession = org.apache.spark.sql.SparkSession@1fa1705e\r\n"
      ]
     },
     "execution_count": 1,
     "metadata": {},
     "output_type": "execute_result"
    },
    {
     "name": "stdout",
     "output_type": "stream",
     "text": [
      "23/04/10 12:29:05 WARN ProcfsMetricsGetter: Exception when trying to compute pagesize, as a result reporting of ProcessTree metrics is stopped\r\n"
     ]
    }
   ],
   "source": [
    "import org.apache.spark.sql.SparkSession\n",
    "val spark = SparkSession.builder.appName(\"Mi App\").master(\"localhost\").getOrCreate()"
   ]
  },
  {
   "cell_type": "code",
   "execution_count": 2,
   "id": "243b6215",
   "metadata": {
    "scrolled": false
   },
   "outputs": [
    {
     "data": {
      "text/plain": [
       "caracteres: org.apache.spark.sql.DataFrame = [edad: bigint, nombre: string ... 1 more field]\r\n"
      ]
     },
     "execution_count": 2,
     "metadata": {},
     "output_type": "execute_result"
    }
   ],
   "source": [
    "val caracteres = spark.read.json(\"C:/Users/javier.puente.ext/Documents/SPARK/ml-vm-notebook-master/PRACTICAS/SPARKSQL/Stranger_Things_Personajes.json\")\n"
   ]
  },
  {
   "cell_type": "code",
   "execution_count": 3,
   "id": "85e6fc4b",
   "metadata": {},
   "outputs": [
    {
     "name": "stdout",
     "output_type": "stream",
     "text": [
      "+----+--------+----+\n",
      "|edad|  nombre|sexo|\n",
      "+----+--------+----+\n",
      "|  12|  Eleven|   M|\n",
      "|  45|  Hopper|   H|\n",
      "|  11|    Will|   H|\n",
      "|  11|     Max|   M|\n",
      "|  11|    Mike|   H|\n",
      "|  11|   Lucas|   H|\n",
      "|  11|  Dustin|   H|\n",
      "|  12|  Eleven|   M|\n",
      "|  23|   Nancy|   M|\n",
      "|  24|Jonathan|   H|\n",
      "+----+--------+----+\n",
      "\n"
     ]
    }
   ],
   "source": [
    "caracteres.show()"
   ]
  },
  {
   "cell_type": "code",
   "execution_count": 5,
   "id": "1ef6807c",
   "metadata": {},
   "outputs": [
    {
     "data": {
      "text/plain": [
       "res2: Array[String] = Array(edad, nombre, sexo)\r\n"
      ]
     },
     "execution_count": 5,
     "metadata": {},
     "output_type": "execute_result"
    }
   ],
   "source": [
    "caracteres.columns"
   ]
  },
  {
   "cell_type": "code",
   "execution_count": 6,
   "id": "f1d071f9",
   "metadata": {},
   "outputs": [
    {
     "name": "stdout",
     "output_type": "stream",
     "text": [
      "+----+\n",
      "|sexo|\n",
      "+----+\n",
      "|   M|\n",
      "|   H|\n",
      "|   H|\n",
      "|   M|\n",
      "|   H|\n",
      "|   H|\n",
      "|   H|\n",
      "|   M|\n",
      "|   M|\n",
      "|   H|\n",
      "+----+\n",
      "\n"
     ]
    },
    {
     "data": {
      "text/plain": [
       "sexo: org.apache.spark.sql.DataFrame = [sexo: string]\r\n"
      ]
     },
     "execution_count": 6,
     "metadata": {},
     "output_type": "execute_result"
    }
   ],
   "source": [
    "val sexo = caracteres.select(\"sexo\")\n",
    "sexo.show()"
   ]
  },
  {
   "cell_type": "code",
   "execution_count": 8,
   "id": "763449a3",
   "metadata": {},
   "outputs": [
    {
     "name": "stdout",
     "output_type": "stream",
     "text": [
      "+----+--------+----+\n",
      "|edad|  nombre|sexo|\n",
      "+----+--------+----+\n",
      "|  45|  Hopper|   H|\n",
      "|  23|   Nancy|   M|\n",
      "|  24|Jonathan|   H|\n",
      "+----+--------+----+\n",
      "\n"
     ]
    },
    {
     "data": {
      "text/plain": [
       "adultos: org.apache.spark.sql.Dataset[org.apache.spark.sql.Row] = [edad: bigint, nombre: string ... 1 more field]\r\n"
      ]
     },
     "execution_count": 8,
     "metadata": {},
     "output_type": "execute_result"
    }
   ],
   "source": [
    "val adultos = caracteres.filter($\"edad\" > 18)\n",
    "adultos.show()"
   ]
  },
  {
   "cell_type": "code",
   "execution_count": 9,
   "id": "79a7ad50",
   "metadata": {},
   "outputs": [
    {
     "name": "stdout",
     "output_type": "stream",
     "text": [
      "+----+-----+\n",
      "|edad|count|\n",
      "+----+-----+\n",
      "|  12|    2|\n",
      "|  11|    5|\n",
      "|  23|    1|\n",
      "|  45|    1|\n",
      "|  24|    1|\n",
      "+----+-----+\n",
      "\n"
     ]
    }
   ],
   "source": [
    "caracteres.groupBy(\"edad\").count().show()"
   ]
  },
  {
   "cell_type": "raw",
   "id": "502cb6ff",
   "metadata": {},
   "source": []
  },
  {
   "cell_type": "code",
   "execution_count": null,
   "id": "d0e05495",
   "metadata": {},
   "outputs": [],
   "source": []
  }
 ],
 "metadata": {
  "kernelspec": {
   "display_name": "spylon-kernel",
   "language": "scala",
   "name": "spylon-kernel"
  },
  "language_info": {
   "codemirror_mode": "text/x-scala",
   "file_extension": ".scala",
   "help_links": [
    {
     "text": "MetaKernel Magics",
     "url": "https://metakernel.readthedocs.io/en/latest/source/README.html"
    }
   ],
   "mimetype": "text/x-scala",
   "name": "scala",
   "pygments_lexer": "scala",
   "version": "0.4.1"
  }
 },
 "nbformat": 4,
 "nbformat_minor": 5
}
