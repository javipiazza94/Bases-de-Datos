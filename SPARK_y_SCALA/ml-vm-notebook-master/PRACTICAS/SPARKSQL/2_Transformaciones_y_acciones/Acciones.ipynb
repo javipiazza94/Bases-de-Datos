{
 "cells": [
  {
   "cell_type": "code",
   "execution_count": 2,
   "id": "64e25171",
   "metadata": {},
   "outputs": [
    {
     "data": {
      "text/plain": [
       "import org.apache.spark.SparkConf\r\n",
       "import org.apache.spark.SparkContext\r\n",
       "import org.apache.spark.rdd.RDD\r\n",
       "cadena_array: Array[String] = Array(augusto, cesar, marco antonio, trajano)\r\n",
       "cadenas_RDD: org.apache.spark.rdd.RDD[String] = ParallelCollectionRDD[1] at parallelize at <console>:34\r\n",
       "rdd_numeros: org.apache.spark.rdd.RDD[Int] = ParallelCollectionRDD[2] at parallelize at <console>:35\r\n"
      ]
     },
     "execution_count": 2,
     "metadata": {},
     "output_type": "execute_result"
    }
   ],
   "source": [
    "// Acciones\n",
    "import org.apache.spark.SparkConf\n",
    "import org.apache.spark.SparkContext\n",
    "import org.apache.spark.rdd.RDD\n",
    "\n",
    "val cadena_array = Array(\"augusto\", \"cesar\", \"marco antonio\", \"trajano\");\n",
    "val cadenas_RDD = sc.parallelize(cadena_array, 2);\n",
    "val rdd_numeros = sc.parallelize(Array(1, 2, 3, 4, 5, 6, 7, 8, 9), 3);"
   ]
  },
  {
   "cell_type": "code",
   "execution_count": 5,
   "id": "b9479463",
   "metadata": {},
   "outputs": [
    {
     "data": {
      "text/plain": [
       "res2: String = augusto\r\n"
      ]
     },
     "execution_count": 5,
     "metadata": {},
     "output_type": "execute_result"
    }
   ],
   "source": [
    "//Accion first\n",
    "cadenas_RDD.first()"
   ]
  },
  {
   "cell_type": "code",
   "execution_count": 6,
   "id": "be2933b2",
   "metadata": {},
   "outputs": [
    {
     "data": {
      "text/plain": [
       "res3: Long = 4\r\n"
      ]
     },
     "execution_count": 6,
     "metadata": {},
     "output_type": "execute_result"
    }
   ],
   "source": [
    "//Accion count\n",
    "cadenas_RDD.count()"
   ]
  },
  {
   "cell_type": "code",
   "execution_count": 7,
   "id": "bb8659bc",
   "metadata": {},
   "outputs": [
    {
     "data": {
      "text/plain": [
       "res4: Int = 45\r\n"
      ]
     },
     "execution_count": 7,
     "metadata": {},
     "output_type": "execute_result"
    }
   ],
   "source": [
    "//Accion reduce\n",
    "rdd_numeros.reduce(_+_)"
   ]
  },
  {
   "cell_type": "code",
   "execution_count": 8,
   "id": "6cad2bb6",
   "metadata": {},
   "outputs": [
    {
     "data": {
      "text/plain": [
       "res5: Array[Int] = Array(1, 2, 3, 4, 5, 6)\r\n"
      ]
     },
     "execution_count": 8,
     "metadata": {},
     "output_type": "execute_result"
    }
   ],
   "source": [
    "//Accion take, max y min\n",
    "rdd_numeros.take(6)"
   ]
  },
  {
   "cell_type": "code",
   "execution_count": 9,
   "id": "48001ef3",
   "metadata": {},
   "outputs": [
    {
     "data": {
      "text/plain": [
       "res6: Int = 1\r\n"
      ]
     },
     "execution_count": 9,
     "metadata": {},
     "output_type": "execute_result"
    }
   ],
   "source": [
    "rdd_numeros.max\n",
    "rdd_numeros.min"
   ]
  },
  {
   "cell_type": "code",
   "execution_count": 10,
   "id": "bbd756ea",
   "metadata": {},
   "outputs": [
    {
     "name": "stdout",
     "output_type": "stream",
     "text": [
      "La palabra es marco antonio\n",
      "La palabra es augusto\n",
      "La palabra es trajano\n",
      "La palabra es cesar\n"
     ]
    }
   ],
   "source": [
    "//Accion foreach\n",
    "cadenas_RDD.foreach(p=>println(\"La palabra es \" + p))"
   ]
  }
 ],
 "metadata": {
  "kernelspec": {
   "display_name": "spylon-kernel",
   "language": "scala",
   "name": "spylon-kernel"
  },
  "language_info": {
   "codemirror_mode": "text/x-scala",
   "file_extension": ".scala",
   "help_links": [
    {
     "text": "MetaKernel Magics",
     "url": "https://metakernel.readthedocs.io/en/latest/source/README.html"
    }
   ],
   "mimetype": "text/x-scala",
   "name": "scala",
   "pygments_lexer": "scala",
   "version": "0.4.1"
  }
 },
 "nbformat": 4,
 "nbformat_minor": 5
}
