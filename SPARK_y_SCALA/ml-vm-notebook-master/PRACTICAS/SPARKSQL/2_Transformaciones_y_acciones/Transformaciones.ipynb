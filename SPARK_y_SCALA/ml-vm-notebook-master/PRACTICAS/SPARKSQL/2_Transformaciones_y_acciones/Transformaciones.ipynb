{
 "cells": [
  {
   "cell_type": "code",
   "execution_count": 4,
   "id": "407d001f",
   "metadata": {},
   "outputs": [
    {
     "data": {
      "text/plain": [
       "import org.apache.spark.SparkConf\r\n",
       "import org.apache.spark.SparkContext\r\n",
       "import org.apache.spark.rdd.RDD\r\n"
      ]
     },
     "execution_count": 4,
     "metadata": {},
     "output_type": "execute_result"
    }
   ],
   "source": [
    "//Transformaciones\n",
    "import org.apache.spark.SparkConf\n",
    "import org.apache.spark.SparkContext\n",
    "import org.apache.spark.rdd.RDD\n"
   ]
  },
  {
   "cell_type": "code",
   "execution_count": 5,
   "id": "f778dfba",
   "metadata": {},
   "outputs": [
    {
     "data": {
      "text/plain": [
       "cadena_array: Array[String] = Array(augusto, cesar, marco antonio, trajano)\r\n",
       "cadenas_RDD: org.apache.spark.rdd.RDD[String] = ParallelCollectionRDD[0] at parallelize at <console>:28\r\n"
      ]
     },
     "execution_count": 5,
     "metadata": {},
     "output_type": "execute_result"
    }
   ],
   "source": [
    "val cadena_array = Array(\"augusto\", \"cesar\", \"marco antonio\", \"trajano\");\n",
    "val cadenas_RDD = sc.parallelize(cadena_array, 2);"
   ]
  },
  {
   "cell_type": "code",
   "execution_count": 6,
   "id": "b81c54d2",
   "metadata": {},
   "outputs": [
    {
     "data": {
      "text/plain": [
       "cadenaMayus: org.apache.spark.rdd.RDD[String] = MapPartitionsRDD[1] at map at <console>:28\r\n",
       "res2: Array[String] = Array(AUGUSTO, CESAR, MARCO ANTONIO, TRAJANO)\r\n"
      ]
     },
     "execution_count": 6,
     "metadata": {},
     "output_type": "execute_result"
    }
   ],
   "source": [
    "//Transformacion Map\n",
    "val cadenaMayus = cadenas_RDD.map(palabra=>palabra.toUpperCase())\n",
    "cadenaMayus.collect()"
   ]
  },
  {
   "cell_type": "code",
   "execution_count": 10,
   "id": "addba8f0",
   "metadata": {},
   "outputs": [
    {
     "data": {
      "text/plain": [
       "MayusLength: org.apache.spark.rdd.RDD[Any] = MapPartitionsRDD[2] at flatMap at <console>:28\r\n",
       "res6: Array[Any] = Array(AUGUSTO, 7, CESAR, 5, MARCO ANTONIO, 13, TRAJANO, 7)\r\n"
      ]
     },
     "execution_count": 10,
     "metadata": {},
     "output_type": "execute_result"
    }
   ],
   "source": [
    "//Transformacion FlatMap\n",
    "val MayusLength = cadenas_RDD.flatMap(palabra => List(palabra.toUpperCase(), palabra.length))\n",
    "MayusLength.collect()"
   ]
  },
  {
   "cell_type": "code",
   "execution_count": 13,
   "id": "46524eb2",
   "metadata": {},
   "outputs": [
    {
     "data": {
      "text/plain": [
       "cadenasUnion: Array[String] = Array(augusto, cesar, marco antonio, trajano, AUGUSTO, CESAR, MARCO ANTONIO, TRAJANO)\r\n"
      ]
     },
     "execution_count": 13,
     "metadata": {},
     "output_type": "execute_result"
    }
   ],
   "source": [
    "//Transformacion union\n",
    "val cadenasUnion = cadenas_RDD.union(cadenaMayus).collect()"
   ]
  },
  {
   "cell_type": "code",
   "execution_count": 14,
   "id": "45a5054a",
   "metadata": {},
   "outputs": [
    {
     "data": {
      "text/plain": [
       "distinto: Array[String] = Array(marco antonio, cesar, augusto, trajano)\r\n"
      ]
     },
     "execution_count": 14,
     "metadata": {},
     "output_type": "execute_result"
    }
   ],
   "source": [
    "//Transformacion distinct\n",
    "val distinto = cadenas_RDD.distinct().collect()"
   ]
  },
  {
   "cell_type": "code",
   "execution_count": 15,
   "id": "cb9bad2f",
   "metadata": {},
   "outputs": [
    {
     "data": {
      "text/plain": [
       "clave: org.apache.spark.rdd.RDD[(String, Int)] = MapPartitionsRDD[7] at map at <console>:28\r\n",
       "res7: Array[(String, Int)] = Array((augusto,1), (cesar,1), (marco antonio,1), (trajano,1))\r\n"
      ]
     },
     "execution_count": 15,
     "metadata": {},
     "output_type": "execute_result"
    }
   ],
   "source": [
    "//Transformaciones SortByKey\n",
    "val clave = cadenas_RDD.map(palabra=>(palabra, 1))\n",
    "clave.collect()"
   ]
  },
  {
   "cell_type": "code",
   "execution_count": 17,
   "id": "32fc0c72",
   "metadata": {},
   "outputs": [
    {
     "data": {
      "text/plain": [
       "ordenar: org.apache.spark.rdd.RDD[(String, Int)] = ShuffledRDD[13] at sortByKey at <console>:28\r\n",
       "res9: Array[(String, Int)] = Array((trajano,1), (marco antonio,1), (cesar,1), (augusto,1))\r\n"
      ]
     },
     "execution_count": 17,
     "metadata": {},
     "output_type": "execute_result"
    }
   ],
   "source": [
    "val ordenar = clave.sortByKey(false)\n",
    "ordenar.collect()"
   ]
  },
  {
   "cell_type": "code",
   "execution_count": null,
   "id": "7caa71fa",
   "metadata": {},
   "outputs": [],
   "source": []
  }
 ],
 "metadata": {
  "kernelspec": {
   "display_name": "spylon-kernel",
   "language": "scala",
   "name": "spylon-kernel"
  },
  "language_info": {
   "codemirror_mode": "text/x-scala",
   "file_extension": ".scala",
   "help_links": [
    {
     "text": "MetaKernel Magics",
     "url": "https://metakernel.readthedocs.io/en/latest/source/README.html"
    }
   ],
   "mimetype": "text/x-scala",
   "name": "scala",
   "pygments_lexer": "scala",
   "version": "0.4.1"
  }
 },
 "nbformat": 4,
 "nbformat_minor": 5
}
